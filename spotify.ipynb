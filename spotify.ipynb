{
 "cells": [
  {
   "cell_type": "code",
   "execution_count": 1,
   "metadata": {},
   "outputs": [],
   "source": [
    "import pandas as pd\n",
    "import numpy as np\n",
    "import seaborn as sns\n"
   ]
  },
  {
   "cell_type": "code",
   "execution_count": 2,
   "metadata": {},
   "outputs": [],
   "source": [
    "df = pd.read_csv(\"top50.csv\",encoding=\"latin\")"
   ]
  },
  {
   "cell_type": "code",
   "execution_count": 3,
   "metadata": {},
   "outputs": [
    {
     "data": {
      "text/html": [
       "<div>\n",
       "<style scoped>\n",
       "    .dataframe tbody tr th:only-of-type {\n",
       "        vertical-align: middle;\n",
       "    }\n",
       "\n",
       "    .dataframe tbody tr th {\n",
       "        vertical-align: top;\n",
       "    }\n",
       "\n",
       "    .dataframe thead th {\n",
       "        text-align: right;\n",
       "    }\n",
       "</style>\n",
       "<table border=\"1\" class=\"dataframe\">\n",
       "  <thead>\n",
       "    <tr style=\"text-align: right;\">\n",
       "      <th></th>\n",
       "      <th>Unnamed: 0</th>\n",
       "      <th>Track.Name</th>\n",
       "      <th>Artist.Name</th>\n",
       "      <th>Genre</th>\n",
       "      <th>Beats.Per.Minute</th>\n",
       "      <th>Energy</th>\n",
       "      <th>Danceability</th>\n",
       "      <th>Loudness..dB..</th>\n",
       "      <th>Liveness</th>\n",
       "      <th>Valence.</th>\n",
       "      <th>Length.</th>\n",
       "      <th>Acousticness..</th>\n",
       "      <th>Speechiness.</th>\n",
       "      <th>Popularity</th>\n",
       "    </tr>\n",
       "  </thead>\n",
       "  <tbody>\n",
       "    <tr>\n",
       "      <td>0</td>\n",
       "      <td>1</td>\n",
       "      <td>Señorita</td>\n",
       "      <td>Shawn Mendes</td>\n",
       "      <td>canadian pop</td>\n",
       "      <td>117</td>\n",
       "      <td>55</td>\n",
       "      <td>76</td>\n",
       "      <td>-6</td>\n",
       "      <td>8</td>\n",
       "      <td>75</td>\n",
       "      <td>191</td>\n",
       "      <td>4</td>\n",
       "      <td>3</td>\n",
       "      <td>79</td>\n",
       "    </tr>\n",
       "    <tr>\n",
       "      <td>1</td>\n",
       "      <td>2</td>\n",
       "      <td>China</td>\n",
       "      <td>Anuel AA</td>\n",
       "      <td>reggaeton flow</td>\n",
       "      <td>105</td>\n",
       "      <td>81</td>\n",
       "      <td>79</td>\n",
       "      <td>-4</td>\n",
       "      <td>8</td>\n",
       "      <td>61</td>\n",
       "      <td>302</td>\n",
       "      <td>8</td>\n",
       "      <td>9</td>\n",
       "      <td>92</td>\n",
       "    </tr>\n",
       "    <tr>\n",
       "      <td>2</td>\n",
       "      <td>3</td>\n",
       "      <td>boyfriend (with Social House)</td>\n",
       "      <td>Ariana Grande</td>\n",
       "      <td>dance pop</td>\n",
       "      <td>190</td>\n",
       "      <td>80</td>\n",
       "      <td>40</td>\n",
       "      <td>-4</td>\n",
       "      <td>16</td>\n",
       "      <td>70</td>\n",
       "      <td>186</td>\n",
       "      <td>12</td>\n",
       "      <td>46</td>\n",
       "      <td>85</td>\n",
       "    </tr>\n",
       "    <tr>\n",
       "      <td>3</td>\n",
       "      <td>4</td>\n",
       "      <td>Beautiful People (feat. Khalid)</td>\n",
       "      <td>Ed Sheeran</td>\n",
       "      <td>pop</td>\n",
       "      <td>93</td>\n",
       "      <td>65</td>\n",
       "      <td>64</td>\n",
       "      <td>-8</td>\n",
       "      <td>8</td>\n",
       "      <td>55</td>\n",
       "      <td>198</td>\n",
       "      <td>12</td>\n",
       "      <td>19</td>\n",
       "      <td>86</td>\n",
       "    </tr>\n",
       "    <tr>\n",
       "      <td>4</td>\n",
       "      <td>5</td>\n",
       "      <td>Goodbyes (Feat. Young Thug)</td>\n",
       "      <td>Post Malone</td>\n",
       "      <td>dfw rap</td>\n",
       "      <td>150</td>\n",
       "      <td>65</td>\n",
       "      <td>58</td>\n",
       "      <td>-4</td>\n",
       "      <td>11</td>\n",
       "      <td>18</td>\n",
       "      <td>175</td>\n",
       "      <td>45</td>\n",
       "      <td>7</td>\n",
       "      <td>94</td>\n",
       "    </tr>\n",
       "  </tbody>\n",
       "</table>\n",
       "</div>"
      ],
      "text/plain": [
       "   Unnamed: 0                       Track.Name    Artist.Name           Genre  \\\n",
       "0           1                         Señorita   Shawn Mendes    canadian pop   \n",
       "1           2                            China       Anuel AA  reggaeton flow   \n",
       "2           3    boyfriend (with Social House)  Ariana Grande       dance pop   \n",
       "3           4  Beautiful People (feat. Khalid)     Ed Sheeran             pop   \n",
       "4           5      Goodbyes (Feat. Young Thug)    Post Malone         dfw rap   \n",
       "\n",
       "   Beats.Per.Minute  Energy  Danceability  Loudness..dB..  Liveness  Valence.  \\\n",
       "0               117      55            76              -6         8        75   \n",
       "1               105      81            79              -4         8        61   \n",
       "2               190      80            40              -4        16        70   \n",
       "3                93      65            64              -8         8        55   \n",
       "4               150      65            58              -4        11        18   \n",
       "\n",
       "   Length.  Acousticness..  Speechiness.  Popularity  \n",
       "0      191               4             3          79  \n",
       "1      302               8             9          92  \n",
       "2      186              12            46          85  \n",
       "3      198              12            19          86  \n",
       "4      175              45             7          94  "
      ]
     },
     "execution_count": 3,
     "metadata": {},
     "output_type": "execute_result"
    }
   ],
   "source": [
    "df.head()\n"
   ]
  },
  {
   "cell_type": "code",
   "execution_count": 4,
   "metadata": {},
   "outputs": [
    {
     "name": "stdout",
     "output_type": "stream",
     "text": [
      "Index(['Unnamed: 0', 'Track.Name', 'Artist.Name', 'Genre', 'Beats.Per.Minute',\n",
      "       'Energy', 'Danceability', 'Loudness..dB..', 'Liveness', 'Valence.',\n",
      "       'Length.', 'Acousticness..', 'Speechiness.', 'Popularity'],\n",
      "      dtype='object')\n",
      "Unnamed: 0           int64\n",
      "Track.Name          object\n",
      "Artist.Name         object\n",
      "Genre               object\n",
      "Beats.Per.Minute     int64\n",
      "Energy               int64\n",
      "Danceability         int64\n",
      "Loudness..dB..       int64\n",
      "Liveness             int64\n",
      "Valence.             int64\n",
      "Length.              int64\n",
      "Acousticness..       int64\n",
      "Speechiness.         int64\n",
      "Popularity           int64\n",
      "dtype: object\n"
     ]
    }
   ],
   "source": [
    "print(df.columns)\n",
    "print(df.dtypes)"
   ]
  },
  {
   "cell_type": "code",
   "execution_count": 5,
   "metadata": {},
   "outputs": [
    {
     "data": {
      "text/html": [
       "<div>\n",
       "<style scoped>\n",
       "    .dataframe tbody tr th:only-of-type {\n",
       "        vertical-align: middle;\n",
       "    }\n",
       "\n",
       "    .dataframe tbody tr th {\n",
       "        vertical-align: top;\n",
       "    }\n",
       "\n",
       "    .dataframe thead th {\n",
       "        text-align: right;\n",
       "    }\n",
       "</style>\n",
       "<table border=\"1\" class=\"dataframe\">\n",
       "  <thead>\n",
       "    <tr style=\"text-align: right;\">\n",
       "      <th></th>\n",
       "      <th>Unnamed: 0</th>\n",
       "      <th>Beats.Per.Minute</th>\n",
       "      <th>Energy</th>\n",
       "      <th>Danceability</th>\n",
       "      <th>Loudness..dB..</th>\n",
       "      <th>Liveness</th>\n",
       "      <th>Valence.</th>\n",
       "      <th>Length.</th>\n",
       "      <th>Acousticness..</th>\n",
       "      <th>Speechiness.</th>\n",
       "      <th>Popularity</th>\n",
       "    </tr>\n",
       "  </thead>\n",
       "  <tbody>\n",
       "    <tr>\n",
       "      <td>count</td>\n",
       "      <td>50.00000</td>\n",
       "      <td>50.000000</td>\n",
       "      <td>50.000000</td>\n",
       "      <td>50.00000</td>\n",
       "      <td>50.000000</td>\n",
       "      <td>50.000000</td>\n",
       "      <td>50.000000</td>\n",
       "      <td>50.000000</td>\n",
       "      <td>50.000000</td>\n",
       "      <td>50.000000</td>\n",
       "      <td>50.000000</td>\n",
       "    </tr>\n",
       "    <tr>\n",
       "      <td>mean</td>\n",
       "      <td>25.50000</td>\n",
       "      <td>120.060000</td>\n",
       "      <td>64.060000</td>\n",
       "      <td>71.38000</td>\n",
       "      <td>-5.660000</td>\n",
       "      <td>14.660000</td>\n",
       "      <td>54.600000</td>\n",
       "      <td>200.960000</td>\n",
       "      <td>22.160000</td>\n",
       "      <td>12.480000</td>\n",
       "      <td>87.500000</td>\n",
       "    </tr>\n",
       "    <tr>\n",
       "      <td>std</td>\n",
       "      <td>14.57738</td>\n",
       "      <td>30.898392</td>\n",
       "      <td>14.231913</td>\n",
       "      <td>11.92988</td>\n",
       "      <td>2.056448</td>\n",
       "      <td>11.118306</td>\n",
       "      <td>22.336024</td>\n",
       "      <td>39.143879</td>\n",
       "      <td>18.995553</td>\n",
       "      <td>11.161596</td>\n",
       "      <td>4.491489</td>\n",
       "    </tr>\n",
       "    <tr>\n",
       "      <td>min</td>\n",
       "      <td>1.00000</td>\n",
       "      <td>85.000000</td>\n",
       "      <td>32.000000</td>\n",
       "      <td>29.00000</td>\n",
       "      <td>-11.000000</td>\n",
       "      <td>5.000000</td>\n",
       "      <td>10.000000</td>\n",
       "      <td>115.000000</td>\n",
       "      <td>1.000000</td>\n",
       "      <td>3.000000</td>\n",
       "      <td>70.000000</td>\n",
       "    </tr>\n",
       "    <tr>\n",
       "      <td>25%</td>\n",
       "      <td>13.25000</td>\n",
       "      <td>96.000000</td>\n",
       "      <td>55.250000</td>\n",
       "      <td>67.00000</td>\n",
       "      <td>-6.750000</td>\n",
       "      <td>8.000000</td>\n",
       "      <td>38.250000</td>\n",
       "      <td>176.750000</td>\n",
       "      <td>8.250000</td>\n",
       "      <td>5.000000</td>\n",
       "      <td>86.000000</td>\n",
       "    </tr>\n",
       "    <tr>\n",
       "      <td>50%</td>\n",
       "      <td>25.50000</td>\n",
       "      <td>104.500000</td>\n",
       "      <td>66.500000</td>\n",
       "      <td>73.50000</td>\n",
       "      <td>-6.000000</td>\n",
       "      <td>11.000000</td>\n",
       "      <td>55.500000</td>\n",
       "      <td>198.000000</td>\n",
       "      <td>15.000000</td>\n",
       "      <td>7.000000</td>\n",
       "      <td>88.000000</td>\n",
       "    </tr>\n",
       "    <tr>\n",
       "      <td>75%</td>\n",
       "      <td>37.75000</td>\n",
       "      <td>137.500000</td>\n",
       "      <td>74.750000</td>\n",
       "      <td>79.75000</td>\n",
       "      <td>-4.000000</td>\n",
       "      <td>15.750000</td>\n",
       "      <td>69.500000</td>\n",
       "      <td>217.500000</td>\n",
       "      <td>33.750000</td>\n",
       "      <td>15.000000</td>\n",
       "      <td>90.750000</td>\n",
       "    </tr>\n",
       "    <tr>\n",
       "      <td>max</td>\n",
       "      <td>50.00000</td>\n",
       "      <td>190.000000</td>\n",
       "      <td>88.000000</td>\n",
       "      <td>90.00000</td>\n",
       "      <td>-2.000000</td>\n",
       "      <td>58.000000</td>\n",
       "      <td>95.000000</td>\n",
       "      <td>309.000000</td>\n",
       "      <td>75.000000</td>\n",
       "      <td>46.000000</td>\n",
       "      <td>95.000000</td>\n",
       "    </tr>\n",
       "  </tbody>\n",
       "</table>\n",
       "</div>"
      ],
      "text/plain": [
       "       Unnamed: 0  Beats.Per.Minute     Energy  Danceability  Loudness..dB..  \\\n",
       "count    50.00000         50.000000  50.000000      50.00000       50.000000   \n",
       "mean     25.50000        120.060000  64.060000      71.38000       -5.660000   \n",
       "std      14.57738         30.898392  14.231913      11.92988        2.056448   \n",
       "min       1.00000         85.000000  32.000000      29.00000      -11.000000   \n",
       "25%      13.25000         96.000000  55.250000      67.00000       -6.750000   \n",
       "50%      25.50000        104.500000  66.500000      73.50000       -6.000000   \n",
       "75%      37.75000        137.500000  74.750000      79.75000       -4.000000   \n",
       "max      50.00000        190.000000  88.000000      90.00000       -2.000000   \n",
       "\n",
       "        Liveness   Valence.     Length.  Acousticness..  Speechiness.  \\\n",
       "count  50.000000  50.000000   50.000000       50.000000     50.000000   \n",
       "mean   14.660000  54.600000  200.960000       22.160000     12.480000   \n",
       "std    11.118306  22.336024   39.143879       18.995553     11.161596   \n",
       "min     5.000000  10.000000  115.000000        1.000000      3.000000   \n",
       "25%     8.000000  38.250000  176.750000        8.250000      5.000000   \n",
       "50%    11.000000  55.500000  198.000000       15.000000      7.000000   \n",
       "75%    15.750000  69.500000  217.500000       33.750000     15.000000   \n",
       "max    58.000000  95.000000  309.000000       75.000000     46.000000   \n",
       "\n",
       "       Popularity  \n",
       "count   50.000000  \n",
       "mean    87.500000  \n",
       "std      4.491489  \n",
       "min     70.000000  \n",
       "25%     86.000000  \n",
       "50%     88.000000  \n",
       "75%     90.750000  \n",
       "max     95.000000  "
      ]
     },
     "execution_count": 5,
     "metadata": {},
     "output_type": "execute_result"
    }
   ],
   "source": [
    "df.describe()"
   ]
  },
  {
   "cell_type": "code",
   "execution_count": 6,
   "metadata": {},
   "outputs": [
    {
     "data": {
      "text/plain": [
       "Unnamed: 0          0\n",
       "Track.Name          0\n",
       "Artist.Name         0\n",
       "Genre               0\n",
       "Beats.Per.Minute    0\n",
       "Energy              0\n",
       "Danceability        0\n",
       "Loudness..dB..      0\n",
       "Liveness            0\n",
       "Valence.            0\n",
       "Length.             0\n",
       "Acousticness..      0\n",
       "Speechiness.        0\n",
       "Popularity          0\n",
       "dtype: int64"
      ]
     },
     "execution_count": 6,
     "metadata": {},
     "output_type": "execute_result"
    }
   ],
   "source": [
    "df.isna().sum()"
   ]
  },
  {
   "cell_type": "code",
   "execution_count": 7,
   "metadata": {},
   "outputs": [
    {
     "data": {
      "text/plain": [
       "21"
      ]
     },
     "execution_count": 7,
     "metadata": {},
     "output_type": "execute_result"
    }
   ],
   "source": [
    "\n",
    "len(df.Genre.unique())"
   ]
  },
  {
   "cell_type": "code",
   "execution_count": 8,
   "metadata": {},
   "outputs": [
    {
     "data": {
      "text/plain": [
       "21"
      ]
     },
     "execution_count": 8,
     "metadata": {},
     "output_type": "execute_result"
    }
   ],
   "source": [
    "len(list(set(df.Genre.values)))"
   ]
  },
  {
   "cell_type": "code",
   "execution_count": 9,
   "metadata": {},
   "outputs": [
    {
     "data": {
      "text/plain": [
       "<matplotlib.axes._subplots.AxesSubplot at 0x270e6920ac8>"
      ]
     },
     "execution_count": 9,
     "metadata": {},
     "output_type": "execute_result"
    },
    {
     "data": {
      "image/png": "[encoded data removed]",
      "text/plain": [
       "<Figure size 1152x432 with 1 Axes>"
      ]
     },
     "metadata": {},
     "output_type": "display_data"
    }
   ],
   "source": [
    "sns.set(rc={'figure.figsize':(16,6)})\n",
    "sns.barplot(x=df['Genre'],y=df['Popularity'],data=df)"
   ]
  },
  {
   "cell_type": "code",
   "execution_count": null,
   "metadata": {},
   "outputs": [],
   "source": []
  },
  {
   "cell_type": "code",
   "execution_count": 10,
   "metadata": {},
   "outputs": [
    {
     "data": {
      "text/plain": [
       "<matplotlib.axes._subplots.AxesSubplot at 0x270e6992888>"
      ]
     },
     "execution_count": 10,
     "metadata": {},
     "output_type": "execute_result"
    },
    {
     "data": {
      "image/png": "[encoded data removed]",
      "text/plain": [
       "<Figure size 1152x432 with 1 Axes>"
      ]
     },
     "metadata": {},
     "output_type": "display_data"
    }
   ],
   "source": [
    "sns.barplot(x=df['Genre'],y=df['Popularity'],data=df)"
   ]
  },
  {
   "cell_type": "code",
   "execution_count": 11,
   "metadata": {},
   "outputs": [],
   "source": [
    "df.iloc[:,0]\n",
    "df.drop([df.columns[0]],axis=1,inplace=True)"
   ]
  },
  {
   "cell_type": "code",
   "execution_count": 12,
   "metadata": {},
   "outputs": [
    {
     "data": {
      "text/html": [
       "<div>\n",
       "<style scoped>\n",
       "    .dataframe tbody tr th:only-of-type {\n",
       "        vertical-align: middle;\n",
       "    }\n",
       "\n",
       "    .dataframe tbody tr th {\n",
       "        vertical-align: top;\n",
       "    }\n",
       "\n",
       "    .dataframe thead th {\n",
       "        text-align: right;\n",
       "    }\n",
       "</style>\n",
       "<table border=\"1\" class=\"dataframe\">\n",
       "  <thead>\n",
       "    <tr style=\"text-align: right;\">\n",
       "      <th></th>\n",
       "      <th>Track.Name</th>\n",
       "      <th>Artist.Name</th>\n",
       "      <th>Genre</th>\n",
       "      <th>Beats.Per.Minute</th>\n",
       "      <th>Energy</th>\n",
       "      <th>Danceability</th>\n",
       "      <th>Loudness..dB..</th>\n",
       "      <th>Liveness</th>\n",
       "      <th>Valence.</th>\n",
       "      <th>Length.</th>\n",
       "      <th>Acousticness..</th>\n",
       "      <th>Speechiness.</th>\n",
       "      <th>Popularity</th>\n",
       "    </tr>\n",
       "  </thead>\n",
       "  <tbody>\n",
       "    <tr>\n",
       "      <td>0</td>\n",
       "      <td>Señorita</td>\n",
       "      <td>Shawn Mendes</td>\n",
       "      <td>canadian pop</td>\n",
       "      <td>117</td>\n",
       "      <td>55</td>\n",
       "      <td>76</td>\n",
       "      <td>-6</td>\n",
       "      <td>8</td>\n",
       "      <td>75</td>\n",
       "      <td>191</td>\n",
       "      <td>4</td>\n",
       "      <td>3</td>\n",
       "      <td>79</td>\n",
       "    </tr>\n",
       "    <tr>\n",
       "      <td>1</td>\n",
       "      <td>China</td>\n",
       "      <td>Anuel AA</td>\n",
       "      <td>reggaeton flow</td>\n",
       "      <td>105</td>\n",
       "      <td>81</td>\n",
       "      <td>79</td>\n",
       "      <td>-4</td>\n",
       "      <td>8</td>\n",
       "      <td>61</td>\n",
       "      <td>302</td>\n",
       "      <td>8</td>\n",
       "      <td>9</td>\n",
       "      <td>92</td>\n",
       "    </tr>\n",
       "    <tr>\n",
       "      <td>2</td>\n",
       "      <td>boyfriend (with Social House)</td>\n",
       "      <td>Ariana Grande</td>\n",
       "      <td>dance pop</td>\n",
       "      <td>190</td>\n",
       "      <td>80</td>\n",
       "      <td>40</td>\n",
       "      <td>-4</td>\n",
       "      <td>16</td>\n",
       "      <td>70</td>\n",
       "      <td>186</td>\n",
       "      <td>12</td>\n",
       "      <td>46</td>\n",
       "      <td>85</td>\n",
       "    </tr>\n",
       "    <tr>\n",
       "      <td>3</td>\n",
       "      <td>Beautiful People (feat. Khalid)</td>\n",
       "      <td>Ed Sheeran</td>\n",
       "      <td>pop</td>\n",
       "      <td>93</td>\n",
       "      <td>65</td>\n",
       "      <td>64</td>\n",
       "      <td>-8</td>\n",
       "      <td>8</td>\n",
       "      <td>55</td>\n",
       "      <td>198</td>\n",
       "      <td>12</td>\n",
       "      <td>19</td>\n",
       "      <td>86</td>\n",
       "    </tr>\n",
       "    <tr>\n",
       "      <td>4</td>\n",
       "      <td>Goodbyes (Feat. Young Thug)</td>\n",
       "      <td>Post Malone</td>\n",
       "      <td>dfw rap</td>\n",
       "      <td>150</td>\n",
       "      <td>65</td>\n",
       "      <td>58</td>\n",
       "      <td>-4</td>\n",
       "      <td>11</td>\n",
       "      <td>18</td>\n",
       "      <td>175</td>\n",
       "      <td>45</td>\n",
       "      <td>7</td>\n",
       "      <td>94</td>\n",
       "    </tr>\n",
       "  </tbody>\n",
       "</table>\n",
       "</div>"
      ],
      "text/plain": [
       "                        Track.Name    Artist.Name           Genre  \\\n",
       "0                         Señorita   Shawn Mendes    canadian pop   \n",
       "1                            China       Anuel AA  reggaeton flow   \n",
       "2    boyfriend (with Social House)  Ariana Grande       dance pop   \n",
       "3  Beautiful People (feat. Khalid)     Ed Sheeran             pop   \n",
       "4      Goodbyes (Feat. Young Thug)    Post Malone         dfw rap   \n",
       "\n",
       "   Beats.Per.Minute  Energy  Danceability  Loudness..dB..  Liveness  Valence.  \\\n",
       "0               117      55            76              -6         8        75   \n",
       "1               105      81            79              -4         8        61   \n",
       "2               190      80            40              -4        16        70   \n",
       "3                93      65            64              -8         8        55   \n",
       "4               150      65            58              -4        11        18   \n",
       "\n",
       "   Length.  Acousticness..  Speechiness.  Popularity  \n",
       "0      191               4             3          79  \n",
       "1      302               8             9          92  \n",
       "2      186              12            46          85  \n",
       "3      198              12            19          86  \n",
       "4      175              45             7          94  "
      ]
     },
     "execution_count": 12,
     "metadata": {},
     "output_type": "execute_result"
    }
   ],
   "source": [
    "df.head()"
   ]
  },
  {
   "cell_type": "code",
   "execution_count": 13,
   "metadata": {},
   "outputs": [
    {
     "data": {
      "text/plain": [
       "<matplotlib.axes._subplots.AxesSubplot at 0x270e6b22fc8>"
      ]
     },
     "execution_count": 13,
     "metadata": {},
     "output_type": "execute_result"
    },
    {
     "data": {
      "image/png": "[encoded data removed]",
      "text/plain": [
       "<Figure size 1440x720 with 1 Axes>"
      ]
     },
     "metadata": {},
     "output_type": "display_data"
    }
   ],
   "source": [
    "sns.set(rc={'figure.figsize':(20,10)})\n",
    "sns.countplot(x=df['Genre'],data=df)"
   ]
  },
  {
   "cell_type": "code",
   "execution_count": 14,
   "metadata": {},
   "outputs": [
    {
     "data": {
      "text/html": [
       "<div>\n",
       "<style scoped>\n",
       "    .dataframe tbody tr th:only-of-type {\n",
       "        vertical-align: middle;\n",
       "    }\n",
       "\n",
       "    .dataframe tbody tr th {\n",
       "        vertical-align: top;\n",
       "    }\n",
       "\n",
       "    .dataframe thead th {\n",
       "        text-align: right;\n",
       "    }\n",
       "</style>\n",
       "<table border=\"1\" class=\"dataframe\">\n",
       "  <thead>\n",
       "    <tr style=\"text-align: right;\">\n",
       "      <th></th>\n",
       "      <th>Track.Name</th>\n",
       "      <th>Artist.Name</th>\n",
       "      <th>Beats.Per.Minute</th>\n",
       "      <th>Energy</th>\n",
       "      <th>Danceability</th>\n",
       "      <th>Loudness..dB..</th>\n",
       "      <th>Liveness</th>\n",
       "      <th>Valence.</th>\n",
       "      <th>Length.</th>\n",
       "      <th>Acousticness..</th>\n",
       "      <th>Speechiness.</th>\n",
       "      <th>Popularity</th>\n",
       "    </tr>\n",
       "    <tr>\n",
       "      <th>Genre</th>\n",
       "      <th></th>\n",
       "      <th></th>\n",
       "      <th></th>\n",
       "      <th></th>\n",
       "      <th></th>\n",
       "      <th></th>\n",
       "      <th></th>\n",
       "      <th></th>\n",
       "      <th></th>\n",
       "      <th></th>\n",
       "      <th></th>\n",
       "      <th></th>\n",
       "    </tr>\n",
       "  </thead>\n",
       "  <tbody>\n",
       "    <tr>\n",
       "      <td>atl hip hop</td>\n",
       "      <td>1</td>\n",
       "      <td>1</td>\n",
       "      <td>1</td>\n",
       "      <td>1</td>\n",
       "      <td>1</td>\n",
       "      <td>1</td>\n",
       "      <td>1</td>\n",
       "      <td>1</td>\n",
       "      <td>1</td>\n",
       "      <td>1</td>\n",
       "      <td>1</td>\n",
       "      <td>1</td>\n",
       "    </tr>\n",
       "    <tr>\n",
       "      <td>australian pop</td>\n",
       "      <td>1</td>\n",
       "      <td>1</td>\n",
       "      <td>1</td>\n",
       "      <td>1</td>\n",
       "      <td>1</td>\n",
       "      <td>1</td>\n",
       "      <td>1</td>\n",
       "      <td>1</td>\n",
       "      <td>1</td>\n",
       "      <td>1</td>\n",
       "      <td>1</td>\n",
       "      <td>1</td>\n",
       "    </tr>\n",
       "    <tr>\n",
       "      <td>big room</td>\n",
       "      <td>1</td>\n",
       "      <td>1</td>\n",
       "      <td>1</td>\n",
       "      <td>1</td>\n",
       "      <td>1</td>\n",
       "      <td>1</td>\n",
       "      <td>1</td>\n",
       "      <td>1</td>\n",
       "      <td>1</td>\n",
       "      <td>1</td>\n",
       "      <td>1</td>\n",
       "      <td>1</td>\n",
       "    </tr>\n",
       "    <tr>\n",
       "      <td>boy band</td>\n",
       "      <td>1</td>\n",
       "      <td>1</td>\n",
       "      <td>1</td>\n",
       "      <td>1</td>\n",
       "      <td>1</td>\n",
       "      <td>1</td>\n",
       "      <td>1</td>\n",
       "      <td>1</td>\n",
       "      <td>1</td>\n",
       "      <td>1</td>\n",
       "      <td>1</td>\n",
       "      <td>1</td>\n",
       "    </tr>\n",
       "    <tr>\n",
       "      <td>brostep</td>\n",
       "      <td>2</td>\n",
       "      <td>2</td>\n",
       "      <td>2</td>\n",
       "      <td>2</td>\n",
       "      <td>2</td>\n",
       "      <td>2</td>\n",
       "      <td>2</td>\n",
       "      <td>2</td>\n",
       "      <td>2</td>\n",
       "      <td>2</td>\n",
       "      <td>2</td>\n",
       "      <td>2</td>\n",
       "    </tr>\n",
       "    <tr>\n",
       "      <td>canadian hip hop</td>\n",
       "      <td>3</td>\n",
       "      <td>3</td>\n",
       "      <td>3</td>\n",
       "      <td>3</td>\n",
       "      <td>3</td>\n",
       "      <td>3</td>\n",
       "      <td>3</td>\n",
       "      <td>3</td>\n",
       "      <td>3</td>\n",
       "      <td>3</td>\n",
       "      <td>3</td>\n",
       "      <td>3</td>\n",
       "    </tr>\n",
       "    <tr>\n",
       "      <td>canadian pop</td>\n",
       "      <td>2</td>\n",
       "      <td>2</td>\n",
       "      <td>2</td>\n",
       "      <td>2</td>\n",
       "      <td>2</td>\n",
       "      <td>2</td>\n",
       "      <td>2</td>\n",
       "      <td>2</td>\n",
       "      <td>2</td>\n",
       "      <td>2</td>\n",
       "      <td>2</td>\n",
       "      <td>2</td>\n",
       "    </tr>\n",
       "    <tr>\n",
       "      <td>country rap</td>\n",
       "      <td>2</td>\n",
       "      <td>2</td>\n",
       "      <td>2</td>\n",
       "      <td>2</td>\n",
       "      <td>2</td>\n",
       "      <td>2</td>\n",
       "      <td>2</td>\n",
       "      <td>2</td>\n",
       "      <td>2</td>\n",
       "      <td>2</td>\n",
       "      <td>2</td>\n",
       "      <td>2</td>\n",
       "    </tr>\n",
       "    <tr>\n",
       "      <td>dance pop</td>\n",
       "      <td>8</td>\n",
       "      <td>8</td>\n",
       "      <td>8</td>\n",
       "      <td>8</td>\n",
       "      <td>8</td>\n",
       "      <td>8</td>\n",
       "      <td>8</td>\n",
       "      <td>8</td>\n",
       "      <td>8</td>\n",
       "      <td>8</td>\n",
       "      <td>8</td>\n",
       "      <td>8</td>\n",
       "    </tr>\n",
       "    <tr>\n",
       "      <td>dfw rap</td>\n",
       "      <td>2</td>\n",
       "      <td>2</td>\n",
       "      <td>2</td>\n",
       "      <td>2</td>\n",
       "      <td>2</td>\n",
       "      <td>2</td>\n",
       "      <td>2</td>\n",
       "      <td>2</td>\n",
       "      <td>2</td>\n",
       "      <td>2</td>\n",
       "      <td>2</td>\n",
       "      <td>2</td>\n",
       "    </tr>\n",
       "    <tr>\n",
       "      <td>edm</td>\n",
       "      <td>3</td>\n",
       "      <td>3</td>\n",
       "      <td>3</td>\n",
       "      <td>3</td>\n",
       "      <td>3</td>\n",
       "      <td>3</td>\n",
       "      <td>3</td>\n",
       "      <td>3</td>\n",
       "      <td>3</td>\n",
       "      <td>3</td>\n",
       "      <td>3</td>\n",
       "      <td>3</td>\n",
       "    </tr>\n",
       "    <tr>\n",
       "      <td>electropop</td>\n",
       "      <td>2</td>\n",
       "      <td>2</td>\n",
       "      <td>2</td>\n",
       "      <td>2</td>\n",
       "      <td>2</td>\n",
       "      <td>2</td>\n",
       "      <td>2</td>\n",
       "      <td>2</td>\n",
       "      <td>2</td>\n",
       "      <td>2</td>\n",
       "      <td>2</td>\n",
       "      <td>2</td>\n",
       "    </tr>\n",
       "    <tr>\n",
       "      <td>escape room</td>\n",
       "      <td>1</td>\n",
       "      <td>1</td>\n",
       "      <td>1</td>\n",
       "      <td>1</td>\n",
       "      <td>1</td>\n",
       "      <td>1</td>\n",
       "      <td>1</td>\n",
       "      <td>1</td>\n",
       "      <td>1</td>\n",
       "      <td>1</td>\n",
       "      <td>1</td>\n",
       "      <td>1</td>\n",
       "    </tr>\n",
       "    <tr>\n",
       "      <td>latin</td>\n",
       "      <td>5</td>\n",
       "      <td>5</td>\n",
       "      <td>5</td>\n",
       "      <td>5</td>\n",
       "      <td>5</td>\n",
       "      <td>5</td>\n",
       "      <td>5</td>\n",
       "      <td>5</td>\n",
       "      <td>5</td>\n",
       "      <td>5</td>\n",
       "      <td>5</td>\n",
       "      <td>5</td>\n",
       "    </tr>\n",
       "    <tr>\n",
       "      <td>panamanian pop</td>\n",
       "      <td>2</td>\n",
       "      <td>2</td>\n",
       "      <td>2</td>\n",
       "      <td>2</td>\n",
       "      <td>2</td>\n",
       "      <td>2</td>\n",
       "      <td>2</td>\n",
       "      <td>2</td>\n",
       "      <td>2</td>\n",
       "      <td>2</td>\n",
       "      <td>2</td>\n",
       "      <td>2</td>\n",
       "    </tr>\n",
       "    <tr>\n",
       "      <td>pop</td>\n",
       "      <td>7</td>\n",
       "      <td>7</td>\n",
       "      <td>7</td>\n",
       "      <td>7</td>\n",
       "      <td>7</td>\n",
       "      <td>7</td>\n",
       "      <td>7</td>\n",
       "      <td>7</td>\n",
       "      <td>7</td>\n",
       "      <td>7</td>\n",
       "      <td>7</td>\n",
       "      <td>7</td>\n",
       "    </tr>\n",
       "    <tr>\n",
       "      <td>pop house</td>\n",
       "      <td>1</td>\n",
       "      <td>1</td>\n",
       "      <td>1</td>\n",
       "      <td>1</td>\n",
       "      <td>1</td>\n",
       "      <td>1</td>\n",
       "      <td>1</td>\n",
       "      <td>1</td>\n",
       "      <td>1</td>\n",
       "      <td>1</td>\n",
       "      <td>1</td>\n",
       "      <td>1</td>\n",
       "    </tr>\n",
       "    <tr>\n",
       "      <td>r&amp;b en espanol</td>\n",
       "      <td>1</td>\n",
       "      <td>1</td>\n",
       "      <td>1</td>\n",
       "      <td>1</td>\n",
       "      <td>1</td>\n",
       "      <td>1</td>\n",
       "      <td>1</td>\n",
       "      <td>1</td>\n",
       "      <td>1</td>\n",
       "      <td>1</td>\n",
       "      <td>1</td>\n",
       "      <td>1</td>\n",
       "    </tr>\n",
       "    <tr>\n",
       "      <td>reggaeton</td>\n",
       "      <td>2</td>\n",
       "      <td>2</td>\n",
       "      <td>2</td>\n",
       "      <td>2</td>\n",
       "      <td>2</td>\n",
       "      <td>2</td>\n",
       "      <td>2</td>\n",
       "      <td>2</td>\n",
       "      <td>2</td>\n",
       "      <td>2</td>\n",
       "      <td>2</td>\n",
       "      <td>2</td>\n",
       "    </tr>\n",
       "    <tr>\n",
       "      <td>reggaeton flow</td>\n",
       "      <td>2</td>\n",
       "      <td>2</td>\n",
       "      <td>2</td>\n",
       "      <td>2</td>\n",
       "      <td>2</td>\n",
       "      <td>2</td>\n",
       "      <td>2</td>\n",
       "      <td>2</td>\n",
       "      <td>2</td>\n",
       "      <td>2</td>\n",
       "      <td>2</td>\n",
       "      <td>2</td>\n",
       "    </tr>\n",
       "    <tr>\n",
       "      <td>trap music</td>\n",
       "      <td>1</td>\n",
       "      <td>1</td>\n",
       "      <td>1</td>\n",
       "      <td>1</td>\n",
       "      <td>1</td>\n",
       "      <td>1</td>\n",
       "      <td>1</td>\n",
       "      <td>1</td>\n",
       "      <td>1</td>\n",
       "      <td>1</td>\n",
       "      <td>1</td>\n",
       "      <td>1</td>\n",
       "    </tr>\n",
       "  </tbody>\n",
       "</table>\n",
       "</div>"
      ],
      "text/plain": [
       "                  Track.Name  Artist.Name  Beats.Per.Minute  Energy  \\\n",
       "Genre                                                                 \n",
       "atl hip hop                1            1                 1       1   \n",
       "australian pop             1            1                 1       1   \n",
       "big room                   1            1                 1       1   \n",
       "boy band                   1            1                 1       1   \n",
       "brostep                    2            2                 2       2   \n",
       "canadian hip hop           3            3                 3       3   \n",
       "canadian pop               2            2                 2       2   \n",
       "country rap                2            2                 2       2   \n",
       "dance pop                  8            8                 8       8   \n",
       "dfw rap                    2            2                 2       2   \n",
       "edm                        3            3                 3       3   \n",
       "electropop                 2            2                 2       2   \n",
       "escape room                1            1                 1       1   \n",
       "latin                      5            5                 5       5   \n",
       "panamanian pop             2            2                 2       2   \n",
       "pop                        7            7                 7       7   \n",
       "pop house                  1            1                 1       1   \n",
       "r&b en espanol             1            1                 1       1   \n",
       "reggaeton                  2            2                 2       2   \n",
       "reggaeton flow             2            2                 2       2   \n",
       "trap music                 1            1                 1       1   \n",
       "\n",
       "                  Danceability  Loudness..dB..  Liveness  Valence.  Length.  \\\n",
       "Genre                                                                         \n",
       "atl hip hop                  1               1         1         1        1   \n",
       "australian pop               1               1         1         1        1   \n",
       "big room                     1               1         1         1        1   \n",
       "boy band                     1               1         1         1        1   \n",
       "brostep                      2               2         2         2        2   \n",
       "canadian hip hop             3               3         3         3        3   \n",
       "canadian pop                 2               2         2         2        2   \n",
       "country rap                  2               2         2         2        2   \n",
       "dance pop                    8               8         8         8        8   \n",
       "dfw rap                      2               2         2         2        2   \n",
       "edm                          3               3         3         3        3   \n",
       "electropop                   2               2         2         2        2   \n",
       "escape room                  1               1         1         1        1   \n",
       "latin                        5               5         5         5        5   \n",
       "panamanian pop               2               2         2         2        2   \n",
       "pop                          7               7         7         7        7   \n",
       "pop house                    1               1         1         1        1   \n",
       "r&b en espanol               1               1         1         1        1   \n",
       "reggaeton                    2               2         2         2        2   \n",
       "reggaeton flow               2               2         2         2        2   \n",
       "trap music                   1               1         1         1        1   \n",
       "\n",
       "                  Acousticness..  Speechiness.  Popularity  \n",
       "Genre                                                       \n",
       "atl hip hop                    1             1           1  \n",
       "australian pop                 1             1           1  \n",
       "big room                       1             1           1  \n",
       "boy band                       1             1           1  \n",
       "brostep                        2             2           2  \n",
       "canadian hip hop               3             3           3  \n",
       "canadian pop                   2             2           2  \n",
       "country rap                    2             2           2  \n",
       "dance pop                      8             8           8  \n",
       "dfw rap                        2             2           2  \n",
       "edm                            3             3           3  \n",
       "electropop                     2             2           2  \n",
       "escape room                    1             1           1  \n",
       "latin                          5             5           5  \n",
       "panamanian pop                 2             2           2  \n",
       "pop                            7             7           7  \n",
       "pop house                      1             1           1  \n",
       "r&b en espanol                 1             1           1  \n",
       "reggaeton                      2             2           2  \n",
       "reggaeton flow                 2             2           2  \n",
       "trap music                     1             1           1  "
      ]
     },
     "execution_count": 14,
     "metadata": {},
     "output_type": "execute_result"
    }
   ],
   "source": [
    "\n",
    "df.groupby('Genre').count()\n"
   ]
  },
  {
   "cell_type": "code",
   "execution_count": 15,
   "metadata": {},
   "outputs": [
    {
     "data": {
      "text/html": [
       "<div>\n",
       "<style scoped>\n",
       "    .dataframe tbody tr th:only-of-type {\n",
       "        vertical-align: middle;\n",
       "    }\n",
       "\n",
       "    .dataframe tbody tr th {\n",
       "        vertical-align: top;\n",
       "    }\n",
       "\n",
       "    .dataframe thead th {\n",
       "        text-align: right;\n",
       "    }\n",
       "</style>\n",
       "<table border=\"1\" class=\"dataframe\">\n",
       "  <thead>\n",
       "    <tr style=\"text-align: right;\">\n",
       "      <th></th>\n",
       "      <th>Track.Name</th>\n",
       "      <th>Artist.Name</th>\n",
       "      <th>Genre</th>\n",
       "      <th>Beats.Per.Minute</th>\n",
       "      <th>Energy</th>\n",
       "      <th>Danceability</th>\n",
       "      <th>Loudness..dB..</th>\n",
       "      <th>Liveness</th>\n",
       "      <th>Valence.</th>\n",
       "      <th>Length.</th>\n",
       "      <th>Acousticness..</th>\n",
       "      <th>Speechiness.</th>\n",
       "      <th>Popularity</th>\n",
       "    </tr>\n",
       "  </thead>\n",
       "  <tbody>\n",
       "    <tr>\n",
       "      <td>19</td>\n",
       "      <td>Truth Hurts</td>\n",
       "      <td>Lizzo</td>\n",
       "      <td>escape room</td>\n",
       "      <td>158</td>\n",
       "      <td>62</td>\n",
       "      <td>72</td>\n",
       "      <td>-3</td>\n",
       "      <td>12</td>\n",
       "      <td>41</td>\n",
       "      <td>173</td>\n",
       "      <td>11</td>\n",
       "      <td>11</td>\n",
       "      <td>91</td>\n",
       "    </tr>\n",
       "  </tbody>\n",
       "</table>\n",
       "</div>"
      ],
      "text/plain": [
       "     Track.Name Artist.Name        Genre  Beats.Per.Minute  Energy  \\\n",
       "19  Truth Hurts       Lizzo  escape room               158      62   \n",
       "\n",
       "    Danceability  Loudness..dB..  Liveness  Valence.  Length.  Acousticness..  \\\n",
       "19            72              -3        12        41      173              11   \n",
       "\n",
       "    Speechiness.  Popularity  \n",
       "19            11          91  "
      ]
     },
     "execution_count": 15,
     "metadata": {},
     "output_type": "execute_result"
    }
   ],
   "source": [
    "df[df.Genre == 'escape room']"
   ]
  },
  {
   "cell_type": "code",
   "execution_count": 16,
   "metadata": {},
   "outputs": [
    {
     "data": {
      "text/html": [
       "<div>\n",
       "<style scoped>\n",
       "    .dataframe tbody tr th:only-of-type {\n",
       "        vertical-align: middle;\n",
       "    }\n",
       "\n",
       "    .dataframe tbody tr th {\n",
       "        vertical-align: top;\n",
       "    }\n",
       "\n",
       "    .dataframe thead th {\n",
       "        text-align: right;\n",
       "    }\n",
       "</style>\n",
       "<table border=\"1\" class=\"dataframe\">\n",
       "  <thead>\n",
       "    <tr style=\"text-align: right;\">\n",
       "      <th></th>\n",
       "      <th>Track.Name</th>\n",
       "      <th>Artist.Name</th>\n",
       "      <th>Genre</th>\n",
       "      <th>Beats.Per.Minute</th>\n",
       "      <th>Energy</th>\n",
       "      <th>Danceability</th>\n",
       "      <th>Loudness..dB..</th>\n",
       "      <th>Liveness</th>\n",
       "      <th>Valence.</th>\n",
       "      <th>Length.</th>\n",
       "      <th>Acousticness..</th>\n",
       "      <th>Speechiness.</th>\n",
       "      <th>Popularity</th>\n",
       "    </tr>\n",
       "  </thead>\n",
       "  <tbody>\n",
       "    <tr>\n",
       "      <td>35</td>\n",
       "      <td>Summer Days (feat. Macklemore &amp; Patrick Stump ...</td>\n",
       "      <td>Martin Garrix</td>\n",
       "      <td>big room</td>\n",
       "      <td>114</td>\n",
       "      <td>72</td>\n",
       "      <td>66</td>\n",
       "      <td>-7</td>\n",
       "      <td>14</td>\n",
       "      <td>32</td>\n",
       "      <td>164</td>\n",
       "      <td>18</td>\n",
       "      <td>6</td>\n",
       "      <td>89</td>\n",
       "    </tr>\n",
       "  </tbody>\n",
       "</table>\n",
       "</div>"
      ],
      "text/plain": [
       "                                           Track.Name    Artist.Name  \\\n",
       "35  Summer Days (feat. Macklemore & Patrick Stump ...  Martin Garrix   \n",
       "\n",
       "       Genre  Beats.Per.Minute  Energy  Danceability  Loudness..dB..  \\\n",
       "35  big room               114      72            66              -7   \n",
       "\n",
       "    Liveness  Valence.  Length.  Acousticness..  Speechiness.  Popularity  \n",
       "35        14        32      164              18             6          89  "
      ]
     },
     "execution_count": 16,
     "metadata": {},
     "output_type": "execute_result"
    }
   ],
   "source": [
    "df[df.Genre=='big room']"
   ]
  },
  {
   "cell_type": "code",
   "execution_count": 17,
   "metadata": {},
   "outputs": [
    {
     "data": {
      "text/html": [
       "<div>\n",
       "<style scoped>\n",
       "    .dataframe tbody tr th:only-of-type {\n",
       "        vertical-align: middle;\n",
       "    }\n",
       "\n",
       "    .dataframe tbody tr th {\n",
       "        vertical-align: top;\n",
       "    }\n",
       "\n",
       "    .dataframe thead th {\n",
       "        text-align: right;\n",
       "    }\n",
       "</style>\n",
       "<table border=\"1\" class=\"dataframe\">\n",
       "  <thead>\n",
       "    <tr style=\"text-align: right;\">\n",
       "      <th></th>\n",
       "      <th>Track.Name</th>\n",
       "      <th>Artist.Name</th>\n",
       "      <th>Genre</th>\n",
       "      <th>Beats.Per.Minute</th>\n",
       "      <th>Energy</th>\n",
       "      <th>Danceability</th>\n",
       "      <th>Loudness..dB..</th>\n",
       "      <th>Liveness</th>\n",
       "      <th>Valence.</th>\n",
       "      <th>Length.</th>\n",
       "      <th>Acousticness..</th>\n",
       "      <th>Speechiness.</th>\n",
       "      <th>Popularity</th>\n",
       "    </tr>\n",
       "  </thead>\n",
       "  <tbody>\n",
       "    <tr>\n",
       "      <td>10</td>\n",
       "      <td>Callaita</td>\n",
       "      <td>Bad Bunny</td>\n",
       "      <td>reggaeton</td>\n",
       "      <td>176</td>\n",
       "      <td>62</td>\n",
       "      <td>61</td>\n",
       "      <td>-5</td>\n",
       "      <td>24</td>\n",
       "      <td>24</td>\n",
       "      <td>251</td>\n",
       "      <td>60</td>\n",
       "      <td>31</td>\n",
       "      <td>93</td>\n",
       "    </tr>\n",
       "    <tr>\n",
       "      <td>32</td>\n",
       "      <td>0.958333333333333</td>\n",
       "      <td>Maluma</td>\n",
       "      <td>reggaeton</td>\n",
       "      <td>96</td>\n",
       "      <td>71</td>\n",
       "      <td>78</td>\n",
       "      <td>-5</td>\n",
       "      <td>9</td>\n",
       "      <td>68</td>\n",
       "      <td>176</td>\n",
       "      <td>22</td>\n",
       "      <td>28</td>\n",
       "      <td>89</td>\n",
       "    </tr>\n",
       "  </tbody>\n",
       "</table>\n",
       "</div>"
      ],
      "text/plain": [
       "           Track.Name Artist.Name      Genre  Beats.Per.Minute  Energy  \\\n",
       "10           Callaita   Bad Bunny  reggaeton               176      62   \n",
       "32  0.958333333333333      Maluma  reggaeton                96      71   \n",
       "\n",
       "    Danceability  Loudness..dB..  Liveness  Valence.  Length.  Acousticness..  \\\n",
       "10            61              -5        24        24      251              60   \n",
       "32            78              -5         9        68      176              22   \n",
       "\n",
       "    Speechiness.  Popularity  \n",
       "10            31          93  \n",
       "32            28          89  "
      ]
     },
     "execution_count": 17,
     "metadata": {},
     "output_type": "execute_result"
    }
   ],
   "source": [
    "df[df.Genre == 'reggaeton']"
   ]
  },
  {
   "cell_type": "code",
   "execution_count": 18,
   "metadata": {},
   "outputs": [
    {
     "data": {
      "text/html": [
       "<div>\n",
       "<style scoped>\n",
       "    .dataframe tbody tr th:only-of-type {\n",
       "        vertical-align: middle;\n",
       "    }\n",
       "\n",
       "    .dataframe tbody tr th {\n",
       "        vertical-align: top;\n",
       "    }\n",
       "\n",
       "    .dataframe thead th {\n",
       "        text-align: right;\n",
       "    }\n",
       "</style>\n",
       "<table border=\"1\" class=\"dataframe\">\n",
       "  <thead>\n",
       "    <tr style=\"text-align: right;\">\n",
       "      <th></th>\n",
       "      <th>Track.Name</th>\n",
       "      <th>Artist.Name</th>\n",
       "      <th>Genre</th>\n",
       "      <th>Beats.Per.Minute</th>\n",
       "      <th>Energy</th>\n",
       "      <th>Danceability</th>\n",
       "      <th>Loudness..dB..</th>\n",
       "      <th>Liveness</th>\n",
       "      <th>Valence.</th>\n",
       "      <th>Length.</th>\n",
       "      <th>Acousticness..</th>\n",
       "      <th>Speechiness.</th>\n",
       "      <th>Popularity</th>\n",
       "    </tr>\n",
       "  </thead>\n",
       "  <tbody>\n",
       "    <tr>\n",
       "      <td>1</td>\n",
       "      <td>China</td>\n",
       "      <td>Anuel AA</td>\n",
       "      <td>reggaeton flow</td>\n",
       "      <td>105</td>\n",
       "      <td>81</td>\n",
       "      <td>79</td>\n",
       "      <td>-4</td>\n",
       "      <td>8</td>\n",
       "      <td>61</td>\n",
       "      <td>302</td>\n",
       "      <td>8</td>\n",
       "      <td>9</td>\n",
       "      <td>92</td>\n",
       "    </tr>\n",
       "    <tr>\n",
       "      <td>22</td>\n",
       "      <td>No Me Conoce - Remix</td>\n",
       "      <td>Jhay Cortez</td>\n",
       "      <td>reggaeton flow</td>\n",
       "      <td>92</td>\n",
       "      <td>79</td>\n",
       "      <td>81</td>\n",
       "      <td>-4</td>\n",
       "      <td>9</td>\n",
       "      <td>58</td>\n",
       "      <td>309</td>\n",
       "      <td>14</td>\n",
       "      <td>7</td>\n",
       "      <td>83</td>\n",
       "    </tr>\n",
       "  </tbody>\n",
       "</table>\n",
       "</div>"
      ],
      "text/plain": [
       "              Track.Name  Artist.Name           Genre  Beats.Per.Minute  \\\n",
       "1                  China     Anuel AA  reggaeton flow               105   \n",
       "22  No Me Conoce - Remix  Jhay Cortez  reggaeton flow                92   \n",
       "\n",
       "    Energy  Danceability  Loudness..dB..  Liveness  Valence.  Length.  \\\n",
       "1       81            79              -4         8        61      302   \n",
       "22      79            81              -4         9        58      309   \n",
       "\n",
       "    Acousticness..  Speechiness.  Popularity  \n",
       "1                8             9          92  \n",
       "22              14             7          83  "
      ]
     },
     "execution_count": 18,
     "metadata": {},
     "output_type": "execute_result"
    }
   ],
   "source": [
    "df[df.Genre=='reggaeton flow']"
   ]
  },
  {
   "cell_type": "markdown",
   "metadata": {},
   "source": [
    " We can see that the popularity and few other attributes of songs under genres regaeton and regaeton flow are similar. We will combine these two under the label regaeton-mix\n",
    " \n",
    "Same thing,we'll be doing to the songs under genres big room and escape room"
   ]
  },
  {
   "cell_type": "code",
   "execution_count": 19,
   "metadata": {},
   "outputs": [],
   "source": [
    "df['Genre'] = df['Genre'].replace(['reggaeton','reggaeton flow'],'reggaeton-mix')"
   ]
  },
  {
   "cell_type": "code",
   "execution_count": 20,
   "metadata": {},
   "outputs": [],
   "source": [
    "df['Genre'] = df['Genre'].replace(['big room','escape room'],'loud-room')"
   ]
  },
  {
   "cell_type": "code",
   "execution_count": 21,
   "metadata": {},
   "outputs": [
    {
     "data": {
      "text/plain": [
       "19"
      ]
     },
     "execution_count": 21,
     "metadata": {},
     "output_type": "execute_result"
    }
   ],
   "source": [
    "len(df.Genre.unique())"
   ]
  },
  {
   "cell_type": "code",
   "execution_count": 22,
   "metadata": {},
   "outputs": [
    {
     "data": {
      "text/plain": [
       "Track.Name          object\n",
       "Artist.Name         object\n",
       "Genre               object\n",
       "Beats.Per.Minute     int64\n",
       "Energy               int64\n",
       "Danceability         int64\n",
       "Loudness..dB..       int64\n",
       "Liveness             int64\n",
       "Valence.             int64\n",
       "Length.              int64\n",
       "Acousticness..       int64\n",
       "Speechiness.         int64\n",
       "Popularity           int64\n",
       "dtype: object"
      ]
     },
     "execution_count": 22,
     "metadata": {},
     "output_type": "execute_result"
    }
   ],
   "source": [
    "\n",
    "df.dtypes\n"
   ]
  },
  {
   "cell_type": "code",
   "execution_count": 23,
   "metadata": {},
   "outputs": [],
   "source": [
    "# Track name is irrelevant for clustering so let's remove it and store for later purpose(if any)"
   ]
  },
  {
   "cell_type": "code",
   "execution_count": 24,
   "metadata": {},
   "outputs": [],
   "source": [
    "\n",
    "tracks = df['Track.Name']"
   ]
  },
  {
   "cell_type": "code",
   "execution_count": 25,
   "metadata": {},
   "outputs": [],
   "source": [
    "df.drop(['Track.Name'],axis=1,inplace=True)"
   ]
  },
  {
   "cell_type": "code",
   "execution_count": 26,
   "metadata": {},
   "outputs": [
    {
     "data": {
      "text/plain": [
       "38"
      ]
     },
     "execution_count": 26,
     "metadata": {},
     "output_type": "execute_result"
    }
   ],
   "source": [
    "len(df['Artist.Name'].unique())"
   ]
  },
  {
   "cell_type": "code",
   "execution_count": 27,
   "metadata": {},
   "outputs": [],
   "source": [
    "from sklearn.preprocessing import LabelEncoder"
   ]
  },
  {
   "cell_type": "code",
   "execution_count": 28,
   "metadata": {},
   "outputs": [],
   "source": [
    "le = LabelEncoder()\n",
    "df['Artist.Name'] = le.fit_transform(df['Artist.Name'])\n",
    "df['Genre'] = le.fit_transform(df['Genre'])"
   ]
  },
  {
   "cell_type": "code",
   "execution_count": 29,
   "metadata": {},
   "outputs": [
    {
     "data": {
      "text/plain": [
       "Artist.Name         int32\n",
       "Genre               int32\n",
       "Beats.Per.Minute    int64\n",
       "Energy              int64\n",
       "Danceability        int64\n",
       "Loudness..dB..      int64\n",
       "Liveness            int64\n",
       "Valence.            int64\n",
       "Length.             int64\n",
       "Acousticness..      int64\n",
       "Speechiness.        int64\n",
       "Popularity          int64\n",
       "dtype: object"
      ]
     },
     "execution_count": 29,
     "metadata": {},
     "output_type": "execute_result"
    }
   ],
   "source": [
    "df.dtypes"
   ]
  },
  {
   "cell_type": "code",
   "execution_count": 30,
   "metadata": {},
   "outputs": [],
   "source": [
    "\n",
    "from sklearn.cluster import KMeans"
   ]
  },
  {
   "cell_type": "code",
   "execution_count": 31,
   "metadata": {},
   "outputs": [],
   "source": [
    "# First cluster with 2 clusters"
   ]
  },
  {
   "cell_type": "code",
   "execution_count": 32,
   "metadata": {},
   "outputs": [
    {
     "data": {
      "text/plain": [
       "KMeans(algorithm='auto', copy_x=True, init='k-means++', max_iter=300,\n",
       "       n_clusters=2, n_init=10, n_jobs=None, precompute_distances='auto',\n",
       "       random_state=None, tol=0.0001, verbose=0)"
      ]
     },
     "execution_count": 32,
     "metadata": {},
     "output_type": "execute_result"
    }
   ],
   "source": [
    "kmeans = KMeans(n_clusters=2,init='k-means++')\n",
    "\n",
    "kmeans.fit(df)"
   ]
  },
  {
   "cell_type": "code",
   "execution_count": 33,
   "metadata": {},
   "outputs": [
    {
     "data": {
      "text/plain": [
       "154753.7857142857"
      ]
     },
     "execution_count": 33,
     "metadata": {},
     "output_type": "execute_result"
    }
   ],
   "source": [
    "\n",
    "kmeans.inertia_"
   ]
  },
  {
   "cell_type": "code",
   "execution_count": 34,
   "metadata": {},
   "outputs": [],
   "source": [
    "# Deciding number of clusters"
   ]
  },
  {
   "cell_type": "code",
   "execution_count": 35,
   "metadata": {},
   "outputs": [],
   "source": [
    "\n",
    "inlist = []\n",
    "\n",
    "for cluster in range(1,38):\n",
    "    kmeans = KMeans(n_jobs=-1,n_clusters=cluster,init='k-means++')\n",
    "    kmeans.fit(df)\n",
    "    inlist.append(kmeans.inertia_)"
   ]
  },
  {
   "cell_type": "code",
   "execution_count": 36,
   "metadata": {},
   "outputs": [],
   "source": [
    "kframe = pd.DataFrame({'clusters':range(1,38),'inertias':inlist})"
   ]
  },
  {
   "cell_type": "code",
   "execution_count": 37,
   "metadata": {},
   "outputs": [
    {
     "data": {
      "text/plain": [
       "<matplotlib.axes._subplots.AxesSubplot at 0x270e79c92c8>"
      ]
     },
     "execution_count": 37,
     "metadata": {},
     "output_type": "execute_result"
    },
    {
     "data": {
      "image/png": "[encoded data removed]",
      "text/plain": [
       "<Figure size 1440x720 with 1 Axes>"
      ]
     },
     "metadata": {},
     "output_type": "display_data"
    }
   ],
   "source": [
    "sns.barplot(x=kframe['clusters'],y=kframe['inertias'],data=kframe)"
   ]
  },
  {
   "cell_type": "code",
   "execution_count": 38,
   "metadata": {},
   "outputs": [
    {
     "data": {
      "text/plain": [
       "KMeans(algorithm='auto', copy_x=True, init='k-means++', max_iter=300,\n",
       "       n_clusters=8, n_init=10, n_jobs=None, precompute_distances='auto',\n",
       "       random_state=None, tol=0.0001, verbose=0)"
      ]
     },
     "execution_count": 38,
     "metadata": {},
     "output_type": "execute_result"
    }
   ],
   "source": [
    "# Constant slope from 8th cluster hence we choose 8 clusters\n",
    "\n",
    "kmeans = KMeans(n_clusters=8,init='k-means++')\n",
    "\n",
    "kmeans.fit(df)"
   ]
  },
  {
   "cell_type": "code",
   "execution_count": 39,
   "metadata": {},
   "outputs": [],
   "source": [
    "pred = kmeans.predict(df)"
   ]
  },
  {
   "cell_type": "code",
   "execution_count": 55,
   "metadata": {},
   "outputs": [
    {
     "data": {
      "text/plain": [
       "50"
      ]
     },
     "execution_count": 55,
     "metadata": {},
     "output_type": "execute_result"
    }
   ],
   "source": [
    "len(pred)"
   ]
  },
  {
   "cell_type": "code",
   "execution_count": 41,
   "metadata": {},
   "outputs": [],
   "source": [
    "df['clusters'] = pred"
   ]
  },
  {
   "cell_type": "code",
   "execution_count": 42,
   "metadata": {},
   "outputs": [
    {
     "data": {
      "text/plain": [
       "4    11\n",
       "2     9\n",
       "6     8\n",
       "1     6\n",
       "0     6\n",
       "7     4\n",
       "3     4\n",
       "5     2\n",
       "Name: clusters, dtype: int64"
      ]
     },
     "execution_count": 42,
     "metadata": {},
     "output_type": "execute_result"
    }
   ],
   "source": [
    "df['clusters'].value_counts()"
   ]
  },
  {
   "cell_type": "code",
   "execution_count": 43,
   "metadata": {},
   "outputs": [],
   "source": [
    "import matplotlib.pyplot as plt\n",
    "%matplotlib inline"
   ]
  },
  {
   "cell_type": "code",
   "execution_count": 44,
   "metadata": {},
   "outputs": [
    {
     "data": {
      "text/plain": [
       "<matplotlib.collections.PathCollection at 0x270e822a448>"
      ]
     },
     "execution_count": 44,
     "metadata": {},
     "output_type": "execute_result"
    },
    {
     "data": {
      "image/png": "[encoded data removed]",
      "text/plain": [
       "<Figure size 432x288 with 1 Axes>"
      ]
     },
     "metadata": {
      "needs_background": "light"
     },
     "output_type": "display_data"
    }
   ],
   "source": [
    "# Centroids of clusters\n",
    "plt.scatter(kmeans.cluster_centers_[:,0],kmeans.cluster_centers_[:,1],color='black')"
   ]
  },
  {
   "cell_type": "code",
   "execution_count": 45,
   "metadata": {},
   "outputs": [
    {
     "data": {
      "text/plain": [
       "<matplotlib.axes._subplots.AxesSubplot at 0x270e8265a88>"
      ]
     },
     "execution_count": 45,
     "metadata": {},
     "output_type": "execute_result"
    },
    {
     "data": {
      "image/png": "[encoded data removed]",
      "text/plain": [
       "<Figure size 432x288 with 1 Axes>"
      ]
     },
     "metadata": {
      "needs_background": "light"
     },
     "output_type": "display_data"
    }
   ],
   "source": [
    "# Final Clusters\n",
    "sns.swarmplot(df.clusters,df.Popularity)"
   ]
  },
  {
   "cell_type": "code",
   "execution_count": 46,
   "metadata": {},
   "outputs": [
    {
     "data": {
      "text/plain": [
       "0     4\n",
       "1     3\n",
       "2     1\n",
       "3     4\n",
       "4     6\n",
       "5     4\n",
       "6     5\n",
       "7     2\n",
       "8     1\n",
       "9     6\n",
       "10    7\n",
       "11    4\n",
       "12    0\n",
       "13    7\n",
       "14    2\n",
       "15    3\n",
       "16    7\n",
       "17    0\n",
       "18    6\n",
       "19    6\n",
       "20    1\n",
       "21    5\n",
       "22    3\n",
       "23    3\n",
       "24    6\n",
       "25    0\n",
       "26    0\n",
       "27    2\n",
       "28    4\n",
       "29    4\n",
       "30    2\n",
       "31    6\n",
       "32    4\n",
       "33    2\n",
       "34    2\n",
       "35    6\n",
       "36    7\n",
       "37    1\n",
       "38    1\n",
       "39    0\n",
       "40    2\n",
       "41    4\n",
       "42    2\n",
       "43    6\n",
       "44    0\n",
       "45    4\n",
       "46    1\n",
       "47    4\n",
       "48    2\n",
       "49    4\n",
       "Name: clusters, dtype: int32"
      ]
     },
     "execution_count": 46,
     "metadata": {},
     "output_type": "execute_result"
    }
   ],
   "source": [
    "df.clusters"
   ]
  },
  {
   "cell_type": "code",
   "execution_count": 47,
   "metadata": {},
   "outputs": [
    {
     "data": {
      "text/plain": [
       "0                                              Señorita\n",
       "1                                                 China\n",
       "2                         boyfriend (with Social House)\n",
       "3                       Beautiful People (feat. Khalid)\n",
       "4                           Goodbyes (Feat. Young Thug)\n",
       "5                     I Don't Care (with Justin Bieber)\n",
       "6                                                Ransom\n",
       "7                                     How Do You Sleep?\n",
       "8                                 Old Town Road - Remix\n",
       "9                                               bad guy\n",
       "10                                             Callaita\n",
       "11                Loco Contigo (feat. J. Balvin & Tyga)\n",
       "12                                    Someone You Loved\n",
       "13                                   Otro Trago - Remix\n",
       "14             Money In The Grave (Drake ft. Rick Ross)\n",
       "15                            No Guidance (feat. Drake)\n",
       "16                                           LA CANCIÓN\n",
       "17        Sunflower - Spider-Man: Into the Spider-Verse\n",
       "18                                               Lalala\n",
       "19                                          Truth Hurts\n",
       "20                                  Piece Of Your Heart\n",
       "21                                               Panini\n",
       "22                                 No Me Conoce - Remix\n",
       "23                                      Soltera - Remix\n",
       "24                         bad guy (with Justin Bieber)\n",
       "25                                  If I Can't Have You\n",
       "26                                         Dance Monkey\n",
       "27                                             It's You\n",
       "28                                            Con Calma\n",
       "29                                        QUE PRETENDES\n",
       "30                                             Takeaway\n",
       "31                                              7 rings\n",
       "32                                    0.958333333333333\n",
       "33            The London (feat. J. Cole & Travis Scott)\n",
       "34                                    Never Really Over\n",
       "35    Summer Days (feat. Macklemore & Patrick Stump ...\n",
       "36                                           Otro Trago\n",
       "37                       Antisocial (with Travis Scott)\n",
       "38                                               Sucker\n",
       "39    fuck, i'm lonely (with Anne-Marie) - from 13 ...\n",
       "40                                          Higher Love\n",
       "41                                You Need To Calm Down\n",
       "42                                              Shallow\n",
       "43                                                 Talk\n",
       "44                                           Con Altura\n",
       "45                                      One Thing Right\n",
       "46                                            Te Robaré\n",
       "47                                              Happier\n",
       "48                                        Call You Mine\n",
       "49        Cross Me (feat. Chance the Rapper & PnB Rock)\n",
       "Name: Track.Name, dtype: object"
      ]
     },
     "execution_count": 47,
     "metadata": {},
     "output_type": "execute_result"
    }
   ],
   "source": [
    "tracks"
   ]
  },
  {
   "cell_type": "code",
   "execution_count": 56,
   "metadata": {},
   "outputs": [
    {
     "data": {
      "text/plain": [
       "Acousticness..      50\n",
       "Artist.Name         50\n",
       "Beats.Per.Minute    50\n",
       "Danceability        50\n",
       "Energy              50\n",
       "Genre               50\n",
       "Length.             50\n",
       "Liveness            50\n",
       "Loudness..dB..      50\n",
       "Popularity          50\n",
       "Speechiness.        50\n",
       "Valence.            50\n",
       "clusters            50\n",
       "dtype: int64"
      ]
     },
     "execution_count": 56,
     "metadata": {},
     "output_type": "execute_result"
    }
   ],
   "source": [
    "df.count()"
   ]
  },
  {
   "cell_type": "code",
   "execution_count": 73,
   "metadata": {},
   "outputs": [],
   "source": [
    "df['tracks'] = tracks"
   ]
  },
  {
   "cell_type": "code",
   "execution_count": 74,
   "metadata": {},
   "outputs": [
    {
     "data": {
      "text/plain": [
       "Acousticness..      50\n",
       "Artist.Name         50\n",
       "Beats.Per.Minute    50\n",
       "Danceability        50\n",
       "Energy              50\n",
       "Genre               50\n",
       "Length.             50\n",
       "Liveness            50\n",
       "Loudness..dB..      50\n",
       "Popularity          50\n",
       "Speechiness.        50\n",
       "Valence.            50\n",
       "clusters            50\n",
       "tracks              50\n",
       "dtype: int64"
      ]
     },
     "execution_count": 74,
     "metadata": {},
     "output_type": "execute_result"
    }
   ],
   "source": [
    "df.count()"
   ]
  },
  {
   "cell_type": "code",
   "execution_count": 77,
   "metadata": {},
   "outputs": [
    {
     "data": {
      "text/plain": [
       "Acousticness..      False\n",
       "Artist.Name         False\n",
       "Beats.Per.Minute    False\n",
       "Danceability        False\n",
       "Energy              False\n",
       "Genre               False\n",
       "Length.             False\n",
       "Liveness            False\n",
       "Loudness..dB..      False\n",
       "Popularity          False\n",
       "Speechiness.        False\n",
       "Valence.            False\n",
       "clusters            False\n",
       "tracks              False\n",
       "dtype: bool"
      ]
     },
     "execution_count": 77,
     "metadata": {},
     "output_type": "execute_result"
    }
   ],
   "source": [
    "\n",
    "df.count().isna()"
   ]
  },
  {
   "cell_type": "code",
   "execution_count": 91,
   "metadata": {},
   "outputs": [],
   "source": [
    "\n",
    "clusts = {}\n",
    "n=0\n",
    "for item in pred:\n",
    "    if item in clusts:\n",
    "        clusts[item].append(tracks[n])\n",
    "    else:\n",
    "        clusts[item] = [tracks[n]]\n",
    "    n+=1"
   ]
  },
  {
   "cell_type": "code",
   "execution_count": 98,
   "metadata": {},
   "outputs": [
    {
     "name": "stdout",
     "output_type": "stream",
     "text": [
      "Cluster 4 \n",
      "\n",
      "0 Señorita\n",
      "1 Beautiful People (feat. Khalid)\n",
      "2 I Don't Care (with Justin Bieber)\n",
      "3 Loco Contigo (feat. J. Balvin & Tyga)\n",
      "4 Con Calma\n",
      "5 QUE PRETENDES\n",
      "6 0.958333333333333\n",
      "7 You Need To Calm Down\n",
      "8 One Thing Right\n",
      "9 Happier\n",
      "10 Cross Me (feat. Chance the Rapper & PnB Rock)\n",
      "\n",
      "\n",
      "Cluster 3 \n",
      "\n",
      "0 China\n",
      "1 No Guidance (feat. Drake)\n",
      "2 No Me Conoce - Remix\n",
      "3 Soltera - Remix\n",
      "\n",
      "\n",
      "Cluster 1 \n",
      "\n",
      "0 boyfriend (with Social House)\n",
      "1 Old Town Road - Remix\n",
      "2 Piece Of Your Heart\n",
      "3 Antisocial (with Travis Scott)\n",
      "4 Sucker\n",
      "5 Te Robaré\n",
      "\n",
      "\n",
      "Cluster 6 \n",
      "\n",
      "0 Goodbyes (Feat. Young Thug)\n",
      "1 bad guy\n",
      "2 Lalala\n",
      "3 Truth Hurts\n",
      "4 bad guy (with Justin Bieber)\n",
      "5 7 rings\n",
      "6 Summer Days (feat. Macklemore & Patrick Stump of Fall Out Boy)\n",
      "7 Talk\n",
      "\n",
      "\n",
      "Cluster 5 \n",
      "\n",
      "0 Ransom\n",
      "1 Panini\n",
      "\n",
      "\n",
      "Cluster 2 \n",
      "\n",
      "0 How Do You Sleep?\n",
      "1 Money In The Grave (Drake ft. Rick Ross)\n",
      "2 It's You\n",
      "3 Takeaway\n",
      "4 The London (feat. J. Cole & Travis Scott)\n",
      "5 Never Really Over\n",
      "6 Higher Love\n",
      "7 Shallow\n",
      "8 Call You Mine\n",
      "\n",
      "\n",
      "Cluster 7 \n",
      "\n",
      "0 Callaita\n",
      "1 Otro Trago - Remix\n",
      "2 LA CANCIÓN\n",
      "3 Otro Trago\n",
      "\n",
      "\n",
      "Cluster 0 \n",
      "\n",
      "0 Someone You Loved\n",
      "1 Sunflower - Spider-Man: Into the Spider-Verse\n",
      "2 If I Can't Have You\n",
      "3 Dance Monkey\n",
      "4 fuck, i'm lonely (with Anne-Marie) - from 13 Reasons Why: Season 3\n",
      "5 Con Altura\n",
      "\n",
      "\n"
     ]
    }
   ],
   "source": [
    "for item in clusts:\n",
    "    print(\"Cluster\",item,\"\\n\")\n",
    "    for i,j in zip(range(len(clusts[item])),clusts[item]):\n",
    "        print(i,j)\n",
    "    print(\"\\n\") "
   ]
  },
  {
   "cell_type": "code",
   "execution_count": null,
   "metadata": {},
   "outputs": [],
   "source": []
  }
 ],
 "metadata": {
  "kernelspec": {
   "display_name": "Python 3",
   "language": "python",
   "name": "python3"
  },
  "language_info": {
   "codemirror_mode": {
    "name": "ipython",
    "version": 3
   },
   "file_extension": ".py",
   "mimetype": "text/x-python",
   "name": "python",
   "nbconvert_exporter": "python",
   "pygments_lexer": "ipython3",
   "version": "3.7.4"
  }
 },
 "nbformat": 4,
 "nbformat_minor": 2
}
